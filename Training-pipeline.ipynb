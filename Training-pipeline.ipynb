{
 "cells": [
  {
   "cell_type": "markdown",
   "id": "91311e2c",
   "metadata": {},
   "source": [
    "# Imports"
   ]
  },
  {
   "cell_type": "code",
   "execution_count": 3,
   "id": "4d6a2cc2",
   "metadata": {},
   "outputs": [],
   "source": [
    "import numpy as np \n",
    "import pandas as pd \n",
    "import matplotlib.pyplot as plt \n",
    "\n",
    "import torch \n",
    "import torch.nn.functional as F \n",
    "\n",
    "from tqdm.notebook import tqdm\n",
    "import utils"
   ]
  },
  {
   "cell_type": "markdown",
   "id": "649abec5",
   "metadata": {},
   "source": [
    "# Load MNIST Handwritten Dataset"
   ]
  },
  {
   "cell_type": "code",
   "execution_count": 7,
   "id": "85e71f8a",
   "metadata": {},
   "outputs": [],
   "source": [
    "from torchvision import datasets \n",
    "from torchvision import transforms as T"
   ]
  },
  {
   "cell_type": "code",
   "execution_count": 8,
   "id": "a9c4b891",
   "metadata": {},
   "outputs": [],
   "source": [
    "train_augs=T.Compose([\n",
    "    T.RandomHorizontalFlip(p=0.5),\n",
    "    T.RandomVerticalFlip(p=0.5),\n",
    "    T.ToTensor(),\n",
    "    T.Normalize(mean=0.5,std=0.5)\n",
    "])\n",
    "\n",
    "valid_augs=T.Compose([\n",
    "    T.ToTensor(),\n",
    "    T.Normalize(mean=0.5,std=0.5)\n",
    "])"
   ]
  },
  {
   "cell_type": "code",
   "execution_count": 9,
   "id": "f93bf2de",
   "metadata": {},
   "outputs": [],
   "source": [
    "trainset=datasets.MNIST('./', download=False,train=True,transform=train_augs)\n",
    "testset=datasets.MNIST('./', download=False,train=False,transform=valid_augs)"
   ]
  },
  {
   "cell_type": "code",
   "execution_count": 10,
   "id": "9e0622d4",
   "metadata": {},
   "outputs": [],
   "source": [
    "trainset,validset=torch.utils.data.random_split(trainset,[50000,10000])"
   ]
  },
  {
   "cell_type": "code",
   "execution_count": 11,
   "id": "f36e146c",
   "metadata": {},
   "outputs": [
    {
     "name": "stdout",
     "output_type": "stream",
     "text": [
      "Size of trainset : 50000\n",
      "Size of validset : 10000\n",
      "Size of testset : 10000\n"
     ]
    }
   ],
   "source": [
    "print(f\"Size of trainset : {len(trainset)}\")\n",
    "print(f\"Size of validset : {len(validset)}\")\n",
    "print(f\"Size of testset : {len(testset)}\")"
   ]
  },
  {
   "cell_type": "code",
   "execution_count": 21,
   "id": "5c014f3d",
   "metadata": {},
   "outputs": [
    {
     "name": "stdout",
     "output_type": "stream",
     "text": [
      "shape of image : torch.Size([1, 28, 28])\n",
      "For visualization we need (h x w x c) so using permute shape will be : torch.Size([28, 28, 1])\n"
     ]
    },
    {
     "data": {
      "image/png": "[encoded data removed]",
      "text/plain": [
       "<Figure size 640x480 with 1 Axes>"
      ]
     },
     "metadata": {},
     "output_type": "display_data"
    }
   ],
   "source": [
    "idx = 1\n",
    "image, label = trainset[idx]\n",
    "\n",
    "print(f'shape of image : {image.shape}')\n",
    "\n",
    "print(f'For visualization we need (h x w x c) so using permute shape will be : {image.permute(1, 2, 0).shape}')\n",
    "\n",
    "plt.imshow(image.permute(1, 2, 0), cmap = 'gray')\n",
    "plt.title(label);"
   ]
  },
  {
   "cell_type": "markdown",
   "id": "a335aba4",
   "metadata": {},
   "source": [
    "# Load Dataset into batches"
   ]
  },
  {
   "cell_type": "code",
   "execution_count": 23,
   "id": "f7c7cc11",
   "metadata": {},
   "outputs": [],
   "source": [
    "from torch.utils.data import DataLoader"
   ]
  },
  {
   "cell_type": "code",
   "execution_count": 24,
   "id": "b6c936f6",
   "metadata": {},
   "outputs": [],
   "source": [
    "bs = 64\n",
    "\n",
    "trainloader=DataLoader(trainset,batch_size=bs,shuffle=True)\n",
    "validloader=DataLoader(validset,batch_size=bs)\n",
    "testloader=DataLoader(testset,batch_size=bs)"
   ]
  },
  {
   "cell_type": "code",
   "execution_count": 25,
   "id": "3a48cc57",
   "metadata": {},
   "outputs": [
    {
     "name": "stdout",
     "output_type": "stream",
     "text": [
      "Total no. of batches in trainloader : 782\n",
      "Total no. of batches in validloader : 157\n",
      "Total no. of batches in testloader : 157\n"
     ]
    }
   ],
   "source": [
    "print(f'Total no. of batches in trainloader : {len(trainloader)}')\n",
    "print(f'Total no. of batches in validloader : {len(validloader)}')\n",
    "print(f'Total no. of batches in testloader : {len(testloader)}')"
   ]
  },
  {
   "cell_type": "code",
   "execution_count": 26,
   "id": "4d1c00d5",
   "metadata": {},
   "outputs": [
    {
     "name": "stdout",
     "output_type": "stream",
     "text": [
      "One Images Batch Shape:torch.Size([64, 1, 28, 28])\n",
      "One Labels Batch Shape:torch.Size([64])\n"
     ]
    }
   ],
   "source": [
    "for images,labels in trainloader:\n",
    "    print(f\"One Images Batch Shape:{images.shape}\")\n",
    "    print(f\"One Labels Batch Shape:{labels.shape}\")\n",
    "    break"
   ]
  },
  {
   "cell_type": "markdown",
   "id": "cca45152",
   "metadata": {},
   "source": [
    "# Load Model "
   ]
  },
  {
   "cell_type": "code",
   "execution_count": 27,
   "id": "b7b155bd",
   "metadata": {},
   "outputs": [
    {
     "data": {
      "text/plain": [
       "DigitModel(\n",
       "  (cnn_block): Sequential(\n",
       "    (0): Conv2d(1, 8, kernel_size=(3, 3), stride=(1, 1), padding=(1, 1))\n",
       "    (1): BatchNorm2d(8, eps=1e-05, momentum=0.1, affine=True, track_running_stats=True)\n",
       "    (2): ReLU()\n",
       "    (3): Conv2d(8, 16, kernel_size=(3, 3), stride=(1, 1), padding=(1, 1))\n",
       "    (4): BatchNorm2d(16, eps=1e-05, momentum=0.1, affine=True, track_running_stats=True)\n",
       "    (5): ReLU()\n",
       "    (6): MaxPool2d(kernel_size=(2, 2), stride=(2, 2), padding=0, dilation=1, ceil_mode=False)\n",
       "    (7): Conv2d(16, 32, kernel_size=(3, 3), stride=(1, 1), padding=(1, 1))\n",
       "    (8): BatchNorm2d(32, eps=1e-05, momentum=0.1, affine=True, track_running_stats=True)\n",
       "    (9): ReLU()\n",
       "    (10): MaxPool2d(kernel_size=(2, 2), stride=(2, 2), padding=0, dilation=1, ceil_mode=False)\n",
       "  )\n",
       "  (linear_block): Sequential(\n",
       "    (0): Flatten(start_dim=1, end_dim=-1)\n",
       "    (1): Linear(in_features=1568, out_features=512, bias=True)\n",
       "    (2): ReLU()\n",
       "    (3): Dropout(p=0.5, inplace=False)\n",
       "    (4): Linear(in_features=512, out_features=256, bias=True)\n",
       "    (5): ReLU()\n",
       "    (6): Dropout(p=0.5, inplace=False)\n",
       "    (7): Linear(in_features=256, out_features=10, bias=True)\n",
       "  )\n",
       ")"
      ]
     },
     "execution_count": 27,
     "metadata": {},
     "output_type": "execute_result"
    }
   ],
   "source": [
    "from models import DigitModel\n",
    "\n",
    "model=DigitModel()\n",
    "model.to('cpu')\n"
   ]
  },
  {
   "cell_type": "markdown",
   "id": "1b5c3b7f",
   "metadata": {},
   "source": [
    "# Create Train and Eval Function"
   ]
  },
  {
   "cell_type": "code",
   "execution_count": 31,
   "id": "7f2c650e",
   "metadata": {},
   "outputs": [],
   "source": [
    "def train_fn(model,dataloader,criterion,optimizer):\n",
    "    model.train()\n",
    "    total_loss=0.0\n",
    "    total_acc=0.0\n",
    "    for images,labels in tqdm(dataloader):\n",
    "        images=images.to('cpu')\n",
    "        labels=labels.to('cpu')\n",
    "        optimizer.zero_grad()\n",
    "        logits=model(images)\n",
    "        loss = criterion(logits,labels)\n",
    "        loss.backward()\n",
    "        optimizer.step()\n",
    "        total_loss+=loss.item()\n",
    "        total_acc+=utils.multiclass_accuracy(logits,labels)\n",
    "    return total_loss/len(dataloader),total_acc/len(dataloader)"
   ]
  },
  {
   "cell_type": "code",
   "execution_count": 32,
   "id": "afae506d",
   "metadata": {},
   "outputs": [],
   "source": [
    "def eval_fn(model,dataloader,criterion):\n",
    "    model.eval()\n",
    "    total_loss=0.0\n",
    "    total_acc=0.\n",
    "    with torch.no_grad():\n",
    "        for images,labels in tqdm(dataloader):\n",
    "            images=images.to('cpu')\n",
    "            labels=labels.to('cpu')\n",
    "            logits=model(images)\n",
    "            loss = criterion(logits,labels)\n",
    "            total_loss+=loss.item()\n",
    "            total_acc+=utils.multiclass_accuracy(logits,labels)\n",
    "        return total_loss/len(dataloader),total_acc/len(dataloader)"
   ]
  },
  {
   "cell_type": "markdown",
   "id": "20c7d43b",
   "metadata": {},
   "source": [
    "# Training Loop "
   ]
  },
  {
   "cell_type": "code",
   "execution_count": 33,
   "id": "b9bc2b28",
   "metadata": {},
   "outputs": [],
   "source": [
    "criterion = torch.nn.CrossEntropyLoss()\n",
    "optimizer=torch.optim.Adam(model.parameters(),lr=0.003)"
   ]
  },
  {
   "cell_type": "code",
   "execution_count": 34,
   "id": "4ab29b22",
   "metadata": {},
   "outputs": [
    {
     "data": {
      "application/vnd.jupyter.widget-view+json": {
       "model_id": "50fee44ae33747098457d0180facbbc5",
       "version_major": 2,
       "version_minor": 0
      },
      "text/plain": [
       "  0%|          | 0/782 [00:00<?, ?it/s]"
      ]
     },
     "metadata": {},
     "output_type": "display_data"
    },
    {
     "data": {
      "application/vnd.jupyter.widget-view+json": {
       "model_id": "d1be259babcb443f96cf24a6b8bd0bd2",
       "version_major": 2,
       "version_minor": 0
      },
      "text/plain": [
       "  0%|          | 0/782 [00:00<?, ?it/s]"
      ]
     },
     "metadata": {},
     "output_type": "display_data"
    },
    {
     "name": "stdout",
     "output_type": "stream",
     "text": [
      "Epoch 1 Train Loss: 0.8444808089672147 Train Accuracy: 0.7050431370735168\n",
      "Epoch 1 Valid Loss: 0.32175178821091455 Valid Accuracy: 0.898777186870575\n",
      "SAVED BEST MODEL\n"
     ]
    },
    {
     "data": {
      "application/vnd.jupyter.widget-view+json": {
       "model_id": "bb11071a65cc484babe66c9181b32b8a",
       "version_major": 2,
       "version_minor": 0
      },
      "text/plain": [
       "  0%|          | 0/782 [00:00<?, ?it/s]"
      ]
     },
     "metadata": {},
     "output_type": "display_data"
    },
    {
     "data": {
      "application/vnd.jupyter.widget-view+json": {
       "model_id": "c5e95d5f47ab4a2185da94afee7adb3f",
       "version_major": 2,
       "version_minor": 0
      },
      "text/plain": [
       "  0%|          | 0/782 [00:00<?, ?it/s]"
      ]
     },
     "metadata": {},
     "output_type": "display_data"
    },
    {
     "name": "stdout",
     "output_type": "stream",
     "text": [
      "Epoch 2 Train Loss: 0.460694206025823 Train Accuracy: 0.850743293762207\n",
      "Epoch 2 Valid Loss: 0.22454287848718787 Valid Accuracy: 0.9344030022621155\n",
      "SAVED BEST MODEL\n"
     ]
    },
    {
     "data": {
      "application/vnd.jupyter.widget-view+json": {
       "model_id": "c35b658d271940c7b38a6a9deddd87b5",
       "version_major": 2,
       "version_minor": 0
      },
      "text/plain": [
       "  0%|          | 0/782 [00:00<?, ?it/s]"
      ]
     },
     "metadata": {},
     "output_type": "display_data"
    },
    {
     "data": {
      "application/vnd.jupyter.widget-view+json": {
       "model_id": "0b757f147e084ead8d528c3948e4dff4",
       "version_major": 2,
       "version_minor": 0
      },
      "text/plain": [
       "  0%|          | 0/782 [00:00<?, ?it/s]"
      ]
     },
     "metadata": {},
     "output_type": "display_data"
    },
    {
     "name": "stdout",
     "output_type": "stream",
     "text": [
      "Epoch 3 Train Loss: 0.3777658310063812 Train Accuracy: 0.8794357180595398\n",
      "Epoch 3 Valid Loss: 0.18758841518246 Valid Accuracy: 0.9455522894859314\n",
      "SAVED BEST MODEL\n"
     ]
    },
    {
     "data": {
      "application/vnd.jupyter.widget-view+json": {
       "model_id": "6d0422c136a14b9b8d59088eddd766ec",
       "version_major": 2,
       "version_minor": 0
      },
      "text/plain": [
       "  0%|          | 0/782 [00:00<?, ?it/s]"
      ]
     },
     "metadata": {},
     "output_type": "display_data"
    },
    {
     "data": {
      "application/vnd.jupyter.widget-view+json": {
       "model_id": "c708a3196dc24fb4bff9607eb98ad4ee",
       "version_major": 2,
       "version_minor": 0
      },
      "text/plain": [
       "  0%|          | 0/782 [00:00<?, ?it/s]"
      ]
     },
     "metadata": {},
     "output_type": "display_data"
    },
    {
     "name": "stdout",
     "output_type": "stream",
     "text": [
      "Epoch 4 Train Loss: 0.3368971734152883 Train Accuracy: 0.8947809934616089\n",
      "Epoch 4 Valid Loss: 0.1791265077098175 Valid Accuracy: 0.950547456741333\n",
      "SAVED BEST MODEL\n"
     ]
    },
    {
     "data": {
      "application/vnd.jupyter.widget-view+json": {
       "model_id": "b3df37c966384809b9bc1302ed87cdf0",
       "version_major": 2,
       "version_minor": 0
      },
      "text/plain": [
       "  0%|          | 0/782 [00:00<?, ?it/s]"
      ]
     },
     "metadata": {},
     "output_type": "display_data"
    },
    {
     "data": {
      "application/vnd.jupyter.widget-view+json": {
       "model_id": "fdc9b2ac61074e4fba6aed4d940969be",
       "version_major": 2,
       "version_minor": 0
      },
      "text/plain": [
       "  0%|          | 0/782 [00:00<?, ?it/s]"
      ]
     },
     "metadata": {},
     "output_type": "display_data"
    },
    {
     "name": "stdout",
     "output_type": "stream",
     "text": [
      "Epoch 5 Train Loss: 0.30716760616625666 Train Accuracy: 0.9046515226364136\n",
      "Epoch 5 Valid Loss: 0.16380467069814045 Valid Accuracy: 0.9503077268600464\n",
      "SAVED BEST MODEL\n"
     ]
    },
    {
     "data": {
      "application/vnd.jupyter.widget-view+json": {
       "model_id": "e825031800aa4136bbf9fd274ea24926",
       "version_major": 2,
       "version_minor": 0
      },
      "text/plain": [
       "  0%|          | 0/782 [00:00<?, ?it/s]"
      ]
     },
     "metadata": {},
     "output_type": "display_data"
    },
    {
     "data": {
      "application/vnd.jupyter.widget-view+json": {
       "model_id": "44c5b041e1994a899d42f049d3024774",
       "version_major": 2,
       "version_minor": 0
      },
      "text/plain": [
       "  0%|          | 0/782 [00:00<?, ?it/s]"
      ]
     },
     "metadata": {},
     "output_type": "display_data"
    },
    {
     "name": "stdout",
     "output_type": "stream",
     "text": [
      "Epoch 6 Train Loss: 0.28125222979108694 Train Accuracy: 0.9141424298286438\n",
      "Epoch 6 Valid Loss: 0.15718259377752805 Valid Accuracy: 0.952245831489563\n",
      "SAVED BEST MODEL\n"
     ]
    },
    {
     "data": {
      "application/vnd.jupyter.widget-view+json": {
       "model_id": "eb429a29078d413ab12e4cd94bd7be30",
       "version_major": 2,
       "version_minor": 0
      },
      "text/plain": [
       "  0%|          | 0/782 [00:00<?, ?it/s]"
      ]
     },
     "metadata": {},
     "output_type": "display_data"
    },
    {
     "data": {
      "application/vnd.jupyter.widget-view+json": {
       "model_id": "a753e74eb9fd425b8733e8f1e1e3c796",
       "version_major": 2,
       "version_minor": 0
      },
      "text/plain": [
       "  0%|          | 0/782 [00:00<?, ?it/s]"
      ]
     },
     "metadata": {},
     "output_type": "display_data"
    },
    {
     "name": "stdout",
     "output_type": "stream",
     "text": [
      "Epoch 7 Train Loss: 0.2615185761848069 Train Accuracy: 0.921395480632782\n",
      "Epoch 7 Valid Loss: 0.12474435964918426 Valid Accuracy: 0.9629355669021606\n",
      "SAVED BEST MODEL\n"
     ]
    }
   ],
   "source": [
    "best_valid_loss = np.Inf\n",
    "for i in range(7):\n",
    "    train_loss,train_acc=train_fn(model,trainloader,criterion,optimizer)\n",
    "    valid_loss,valid_acc=eval_fn(model,trainloader,criterion)\n",
    "    print(f\"Epoch {i+1} Train Loss: {train_loss} Train Accuracy: {train_acc}\")\n",
    "    print(f\"Epoch {i+1} Valid Loss: {valid_loss} Valid Accuracy: {valid_acc}\")\n",
    "\n",
    "    if valid_loss<best_valid_loss:\n",
    "        torch.save(model.state_dict(), 'best_weights.pt')\n",
    "        print('SAVED BEST MODEL')\n",
    "        best_valid_loss=valid_loss"
   ]
  },
  {
   "cell_type": "markdown",
   "id": "cfacb4ce",
   "metadata": {},
   "source": [
    "# Inference"
   ]
  },
  {
   "cell_type": "code",
   "execution_count": 36,
   "id": "505bf818",
   "metadata": {},
   "outputs": [
    {
     "data": {
      "image/png": "[encoded data removed]",
      "text/plain": [
       "<Figure size 600x900 with 2 Axes>"
      ]
     },
     "metadata": {},
     "output_type": "display_data"
    }
   ],
   "source": [
    "image,label=testset[1]\n",
    "\n",
    "weights=torch.load('best_weights.pt')\n",
    "model.load_state_dict(weights)\n",
    "model.eval()\n",
    "with torch.no_grad():\n",
    "    logits=model(image.unsqueeze(0))\n",
    "    ps = torch.nn.Softmax(dim=1)(logits)[0]\n",
    "    utils.view_classify(image,ps)\n",
    "    "
   ]
  },
  {
   "cell_type": "code",
   "execution_count": null,
   "id": "b80c3701-edc9-4d2f-a485-50aac737d07f",
   "metadata": {},
   "outputs": [],
   "source": []
  }
 ],
 "metadata": {
  "kernelspec": {
   "display_name": "Python 3 (ipykernel)",
   "language": "python",
   "name": "python3"
  },
  "language_info": {
   "codemirror_mode": {
    "name": "ipython",
    "version": 3
   },
   "file_extension": ".py",
   "mimetype": "text/x-python",
   "name": "python",
   "nbconvert_exporter": "python",
   "pygments_lexer": "ipython3",
   "version": "3.11.8"
  }
 },
 "nbformat": 4,
 "nbformat_minor": 5
}
